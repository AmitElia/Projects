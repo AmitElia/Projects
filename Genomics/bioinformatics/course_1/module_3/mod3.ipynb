{
 "cells": [
  {
   "cell_type": "code",
   "execution_count": 3,
   "id": "2a719f88-70ac-4917-8aac-7e8595393de1",
   "metadata": {},
   "outputs": [
    {
     "data": {
      "text/plain": [
       "1.89208984375"
      ]
     },
     "execution_count": 3,
     "metadata": {},
     "output_type": "execute_result"
    }
   ],
   "source": [
    "answer = (pow(0.25,9)*500*(1000-9+1))\n",
    "answer"
   ]
  },
  {
   "cell_type": "code",
   "execution_count": 6,
   "id": "fb06a247-5639-4f8e-94e0-0cb750407bb4",
   "metadata": {},
   "outputs": [
    {
     "name": "stdout",
     "output_type": "stream",
     "text": [
      "GCTAA CTATC CCTGC GCGGT GGTTC GTATA GTGGT AGTTG GCGTT TCCTC ATCTG ATGTG GCCGG GTATT TAAGC TACTT TCGAC ACTAT TCCTA CTGAT GGACA CAATT TCCGG CCCTG CTTAG GATGC CGCGT ACGTG TTTGA CACCA TCGTT CTCTT CAATG TGCCC TTCAC CTGCA GTCCA TATGG TAACG CCCAT CCTTG AGGCT CTGTA CCTCC CATTG AACTC TGTAG GTAGC TACTA CACTT CCCGG ATCGT TTAGC TCCGC GAGGG TGGCC GCCGC TTTGG AGACG GCCCG GTCTA TCGTC TTTCC CTCAT ATATG ATGGC CTTCA CTCTG TACTG TCAGG AGACT GGTCG GGTCT CAGTA ATACC TCTTT CTCAA CATGC CCGTG TTCGC TTAAC TCTCA TCGCA CTGAC TAAGT CGTAG GACTC CTTCT CTCGA CTCTC GTGTC CCGAT CTGCT GCACT GGTCA TAGAC AAGCG GCCAA ATCCG CGCGA TTGCG TCGCC GTGCG AGCCC CTACT CTATG TGATG GTCGC AGCGC TGCAA GCCTC ATTTC CCGGT GTTGC CAGGC TCTAG AATAC AGTCT TCTGG GATCA TCCCG TCGCT GTCGT GCGCA GTGCA TTCTA CACTA ACTCG CGCAC AGCGA CCATT ACTGC GAGAT TATAC ATGAC TGTCC CCGGG CTTGA CATCG CCAGG TTCTG GGCCT CCTCT GGAGA ATCAG TTGGC TCTAT TTCTC TAGTC TGCCG TCTCC TTTCG ATCCC CGCAA GCTCG GCAGC GGGCT TATGA TGTAC GTACA GGGAT TGTCT GCTGT GTAAC GCAGT TCACA TTAGA AGTGA TGTTC GAACC GGCTT TATGT TCTGA GCTAT TCGTG TACGC CATCA CCCCA AGGGT GTTTC AGTTC AGCTG GATTG CTACG TATGC CACTG CTTGC CCTGA TATTC GCCCT ACGGC GATCG GATTC CTGCG GGGAG GTTGT TACGT GGTAT ATTTG TGCGC CGATC CGGAA CTGTG ACCTG GCCTA TGAGC CTGCC ATCTC TCCCC GCTGG TGGAT TGTCA CGCTA GCTTG GGATC CACCT GCTCA TGAGT GCTTC ATCGG TTTGT CGTAT CGCGC CCTAG ATTGC TGCTA TCTCT CTGGA GCGCG GGTGC ATAGC TGCGA GGCTA CGGTC CTGTT GTACT AGCAG GCCTT ACTTC GAAGC ACTGG TGTGC AACTG GCTCC CCCGT TCGAT GGACT TCGAG CGTGC TCCAG TGTGA TGGTC TCTAC CGAAA TTCCA AACTT TTGAT TACCC GAGGA CCTGG ATGTC TCCAC GCCCC ATCGA AAGTT CCGCT CGTGT CATTT ATCGC CGTTT TCCAA CATCC GGAAT ACGCC GACGG TTGAC TCGGG TCTAA GGTAC ACTTT CTAGC GACTA GTCAG GCTGA GTTTT CTCGC CGTTA TCTGC GCGCT ACACT AGCTC CGCCC TCCGA ACCTC GCCTG GCGAA GATCT CCTTC GTCCG AGGTC GTTAC CTCCG GGTCC GCACG CTCTA TCTTC TCATC GGGCC CTGTC ACCTT AGATC AGATG TCAGC AGGCG GCCAT CCGTC CAAGC CGTCG TTCAA TTTAC TTACG ATCAC CCCTC CTAGT GCTCT AGGCA CTCCT CTGGC CCTCA TAGGC TGGAA TTCGA TCATG CTACA TTATG CATGT TTCGG TCGTA GGCCG CGAGA ATCCA CCAGT TGATC GAGTC GATGA CGAGG CTCCC TTGCT GAGGT TAGCC ATGTT GCATT GCCGT ATCAT GGAGG CACAT CCATG ACGTT CACGT TATCC AGGGC GCAAT TGACC ATCTA TCTGT TTTTG CAGAT TTCGT CTTGG GAGCA CGCTT GAGCT CGGGT AACCT TCTCG GAGGC TGCTT GCATG TACAC ACCGT TATCA AATGC CTTCC CTCGT ATGCC TTGCC GCTGC GGGAA GTTCA TGTTG AGCCG TCACT ACTAA CGTCT ACTCC TCTTA TGGGA GGCTC GACAT GATAC GATAA GAATG GAAGG GATGT GTCAA GAGAG CTTTG GGTAA GCGGA GTCTC TGCCT GGCTG CTCGG CTCAC TTGGA TTGTG CTAAG TTTGC GTGCT GCAAA GTCCT ATTCG CGGAT GAAGT GGGTG CGTTC CGGGC TAGGT TGAGG CGATA GTCGG GCGAT ACGCT AGCTA CTTCG TGGCT GGCAT ATGCT CCCTT TCGGT GATCC GGGTA GCTAG ATCTT GACTT GCATA CTCCA TTCCG TGAAA TGCTC TGCAT ACTGT AATTC CACTC GTTCG CTGGG CTTGT GCCGA CGATT GCTAC CCTGT TCTTG CGCCG AAGCC TGCTG TCGGC TGCGT TCGGA TGGGC CTGGT AGCAA TCACG ACTTG CGGCT TGATA CGCCA GTGAT CGCTG AGGTG GTTGA TTTTC GAAAC CCGGC TATCG CGCAT GATGG CCGTA TTCTT GTCTG TGAAC CGGTA ACCCT GCGTG CGTAA TCCTG TTGTC TCCCA CCGTT GTATC CGCTC CAGCT TGACT CTCAG ATGGT AGTGC GGGTC ATCAA TCCGT CTAAC TGGCA CCCCT TTCAG CGCCT GTCTT TACTC CCTCG\n"
     ]
    }
   ],
   "source": [
    "def hamming_dist(p, q):\n",
    "    k = len(p)\n",
    "    dist = 0\n",
    "    for i in range(0, k):\n",
    "        if p[i] != q[i]:\n",
    "            dist += 1\n",
    "    return dist\n",
    "\n",
    "def neighbors(pattern, d):\n",
    "    nucs = [\"A\",\"C\",\"G\",\"T\"]\n",
    "    if d == 0:\n",
    "        return [pattern]\n",
    "    elif len(pattern) == 1:\n",
    "        return set(nucs)\n",
    "    neighborhood = set()\n",
    "    suffix_neighbors = neighbors(pattern[1:], d)\n",
    "    for text in suffix_neighbors:\n",
    "        if hamming_dist(pattern[1:], text) < d:\n",
    "            for nuc in nucs:\n",
    "                neighborhood.add(nuc+text)\n",
    "        else:\n",
    "            neighborhood.add(pattern[0]+text)\n",
    "    return neighborhood\n",
    "\n",
    "def pattern_match(pattern, text, d):\n",
    "    positions = []\n",
    "    for i in range(0, len(text)- len(pattern) +1):\n",
    "        window = text[i: i+ len(pattern)]\n",
    "        if hamming_dist(pattern, window) <= d:\n",
    "            positions.append(i)\n",
    "    return positions\n",
    "\n",
    "def motif_enumeration(dna, k, d):\n",
    "    motifs = set()\n",
    "    for i in range(0, len(dna[0])-k+1):\n",
    "        pattern  = dna[0][i:i+k]\n",
    "        neighborhood = list(neighbors(pattern, d))\n",
    "        for neighbor in neighborhood:\n",
    "            motifs.add(neighbor)\n",
    "            for j in range(0, len(dna)):\n",
    "                if len(pattern_match(neighbor, dna[j], d)) == 0:\n",
    "                    motifs.remove(neighbor)\n",
    "                    break\n",
    "    return list(motifs)\n",
    "\n",
    "with open('dataset_30302_8.txt') as f:\n",
    "    lines = [line.rstrip('\\n') for line in f]\n",
    "    k, d = map(int, lines[0].split(\" \"))\n",
    "    dna = lines[1].split(\" \")\n",
    "\n",
    "\n",
    "print(\" \".join(motif_enumeration(dna, k, d)))"
   ]
  },
  {
   "cell_type": "code",
   "execution_count": 9,
   "id": "244137bf-40a7-4597-a65d-c2803fafa1ee",
   "metadata": {},
   "outputs": [
    {
     "data": {
      "text/plain": [
       "62"
      ]
     },
     "execution_count": 9,
     "metadata": {},
     "output_type": "execute_result"
    }
   ],
   "source": [
    "\n",
    "def d(pattern, text):\n",
    "    mn = len(pattern)\n",
    "    for i in range(0, len(text)-len(pattern) +1):\n",
    "        window = text[i:i+len(pattern)]\n",
    "        dist = hamming_dist(pattern, window)\n",
    "        if  dist <= mn:\n",
    "            mn = dist\n",
    "    return mn\n",
    "\n",
    "def dist(pattern, dna):\n",
    "    dist = 0\n",
    "    for text in dna:\n",
    "        dist += d(pattern, text)\n",
    "    return dist\n",
    "\n",
    "\n",
    "with open('dataset_30312_1.txt') as f:\n",
    "    lines = [line.rstrip('\\n') for line in f]\n",
    "    pattern = lines[0]\n",
    "    dna = lines[1].split(\" \")\n",
    "\n",
    "dist(pattern, dna)\n"
   ]
  },
  {
   "cell_type": "code",
   "execution_count": 11,
   "id": "17165536-9e72-4a50-8a18-4b6be03c0000",
   "metadata": {},
   "outputs": [
    {
     "data": {
      "text/plain": [
       "64"
      ]
     },
     "execution_count": 11,
     "metadata": {},
     "output_type": "execute_result"
    }
   ],
   "source": [
    "pattern = \"AAA\"\n",
    "len(neighbors(pattern, len(pattern)))"
   ]
  },
  {
   "cell_type": "code",
   "execution_count": 17,
   "id": "9281642c-4f75-4df3-b769-3400e7a46183",
   "metadata": {},
   "outputs": [
    {
     "data": {
      "text/plain": [
       "'GTGCGG'"
      ]
     },
     "execution_count": 17,
     "metadata": {},
     "output_type": "execute_result"
    }
   ],
   "source": [
    "def median_string(dna, k):\n",
    "    distance = len(dna)*(len(dna[0]) -k +1)\n",
    "    median = \"\"\n",
    "    neighborhood = list(neighbors(\"A\"*k, k))\n",
    "    for neighbor in neighborhood:\n",
    "        dis = dist(neighbor, dna)\n",
    "        if  dis < distance:\n",
    "            distance = dis\n",
    "            median = neighbor\n",
    "\n",
    "    return median\n",
    "\n",
    "\n",
    "with open('dataset_30304_9.txt') as f:\n",
    "    lines = [line.rstrip('\\n') for line in f]\n",
    "    k = int(lines[0])\n",
    "    dna = lines[1].split(\" \")\n",
    "\n",
    "median_string(dna, k)"
   ]
  },
  {
   "cell_type": "code",
   "execution_count": null,
   "id": "c01014e6-c94c-4424-b30c-1c3b4e7d6d45",
   "metadata": {},
   "outputs": [],
   "source": []
  }
 ],
 "metadata": {
  "kernelspec": {
   "display_name": "Python 3 (ipykernel)",
   "language": "python",
   "name": "python3"
  },
  "language_info": {
   "codemirror_mode": {
    "name": "ipython",
    "version": 3
   },
   "file_extension": ".py",
   "mimetype": "text/x-python",
   "name": "python",
   "nbconvert_exporter": "python",
   "pygments_lexer": "ipython3",
   "version": "3.10.16"
  }
 },
 "nbformat": 4,
 "nbformat_minor": 5
}
