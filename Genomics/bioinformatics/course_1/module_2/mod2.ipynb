{
 "cells": [
  {
   "cell_type": "code",
   "execution_count": 11,
   "id": "6b6e9b9d-3575-4a0e-87bd-a74e2627b5b4",
   "metadata": {},
   "outputs": [
    {
     "name": "stdout",
     "output_type": "stream",
     "text": [
      "0 1 1 2 1 0 0 -1 -2 -1 -2 -1 -1 -1 -1\n"
     ]
    }
   ],
   "source": [
    "def skew(text):\n",
    "    skew = [0] * (len(text)+1)\n",
    "    for i in range(0, len(text)):\n",
    "        if text[i] == \"G\":\n",
    "            skew[i+1] = skew[i] + 1\n",
    "        elif text[i] == \"C\":\n",
    "            skew[i+1] = skew[i] - 1\n",
    "        else:\n",
    "            skew[i+1] = skew[i]\n",
    "    return skew\n",
    "\n",
    "text = \"GAGCCACCGCGATA\"\n",
    "\n",
    "print(\" \".join(map(str,skew(text))))\n",
    "\n",
    "        \n",
    "    \n",
    "    "
   ]
  },
  {
   "cell_type": "code",
   "execution_count": 12,
   "id": "12c39554-8dd0-4dd9-b971-bbe8410733d2",
   "metadata": {},
   "outputs": [
    {
     "name": "stdout",
     "output_type": "stream",
     "text": [
      "11616 11617 11618 11619\n"
     ]
    }
   ],
   "source": [
    "#find origin index by finding the minimum skew.\n",
    "def find_ori(text):\n",
    "    sk = skew(text)\n",
    "    val = min(sk)\n",
    "    return [i for i, x in enumerate(sk) if x == val]\n",
    "\n",
    "with open('dataset_30277_10.txt') as f:\n",
    "    text = f.read().strip()\n",
    "\n",
    "print(\" \".join(map(str,find_ori(text))))\n",
    "\n",
    "            "
   ]
  },
  {
   "cell_type": "code",
   "execution_count": 13,
   "id": "f56f0846-15c7-4367-a4b8-f4103137b9d9",
   "metadata": {},
   "outputs": [
    {
     "data": {
      "text/plain": [
       "893"
      ]
     },
     "execution_count": 13,
     "metadata": {},
     "output_type": "execute_result"
    }
   ],
   "source": [
    "#compute hamming distance\n",
    "def hamming_dist(p, q):\n",
    "    k = len(p)\n",
    "    dist = 0\n",
    "    for i in range(0, k):\n",
    "        if p[i] != q[i]:\n",
    "            dist += 1\n",
    "    return dist\n",
    "\n",
    "with open('dataset_30278_3.txt') as f:\n",
    "    lines = [line.rstrip('\\n') for line in f]\n",
    "    p = lines[0]\n",
    "    q = lines[1]\n",
    "\n",
    "hamming_dist(p, q)"
   ]
  },
  {
   "cell_type": "code",
   "execution_count": 14,
   "id": "75789e7d-1b06-4d00-8040-520e3a079a45",
   "metadata": {},
   "outputs": [
    {
     "name": "stdout",
     "output_type": "stream",
     "text": [
      "225 317 414 796 820 991 1436 1559 1638 1680 1908 2025 2162 2195 2209 2367 2460 2617 2991 3015 3074 3631 3658 4084 4235 4265 4358 4414 4684 4752 4918 4923 4966 5034 5189 5266 5312 5351 5387 5763 5800 5943 6091 6141 6396 6596 6768 6774 6861 7111 7124 7262 7271 7313 7564 7594 7659 7744 7789 7947 7991 8015 8042 8048 8142 8182 8255 8327 8434 8668 8787 8799 8876 8964 9055 9066 9208 9284 9346 9622 9676 9726 9766 9822 9905 9951 10026 10097 10213 10311 10322 10360 10511 10918 10941 11073 11114 11176 11401 11579 11629 11926 11948 12413 12841 12885 12979 13033 13262 13629 13919 13965 13989 14391 14437 14684 14891 15185 15340 15719 16165 16437 16467 16480 16522 16584 17004 17111 17235 18009 18056 18087 18187 18211 18329 18415 18467 18627 18783 19219 19250 19321 19466 19641 19691 19773\n"
     ]
    }
   ],
   "source": [
    "#find all indices of k-mers in text that are at most d hamming distance away from pattern.\n",
    "def pattern_match(pattern, text, d):\n",
    "    positions = []\n",
    "    for i in range(0, len(text)- len(pattern) +1):\n",
    "        window = text[i: i+ len(pattern)]\n",
    "        if hamming_dist(pattern, window) <= d:\n",
    "            positions.append(i)\n",
    "    return positions\n",
    "\n",
    "with open('dataset_30278_4.txt') as f:\n",
    "    lines = [line.rstrip('\\n') for line in f]\n",
    "    pattern = lines[0]\n",
    "    text = lines[1]\n",
    "    d = int(lines[2])\n",
    "\n",
    "print(\" \".join(map(str,pattern_match(pattern, text, d))))\n",
    "\n",
    "\n",
    "        "
   ]
  },
  {
   "cell_type": "code",
   "execution_count": 15,
   "id": "7d6f9a96-39f4-4a67-a2d2-826c4e44cc60",
   "metadata": {},
   "outputs": [
    {
     "data": {
      "text/plain": [
       "11"
      ]
     },
     "execution_count": 15,
     "metadata": {},
     "output_type": "execute_result"
    }
   ],
   "source": [
    "pattern = \"AAAAA\"\n",
    "text = \"AACAAGCTGATAAACATTTAAAGAG\"\n",
    "d = 2\n",
    "\n",
    "len(pattern_match(pattern, text, d))"
   ]
  },
  {
   "cell_type": "code",
   "execution_count": 16,
   "id": "7384573e-99a3-427b-803a-76e8b1132b58",
   "metadata": {},
   "outputs": [
    {
     "data": {
      "text/plain": [
       "29"
      ]
     },
     "execution_count": 16,
     "metadata": {},
     "output_type": "execute_result"
    }
   ],
   "source": [
    "with open('dataset_30278_6.txt') as f:\n",
    "    lines = [line.rstrip('\\n') for line in f]\n",
    "    pattern = lines[0]\n",
    "    text = lines[1]\n",
    "    d = int(lines[2])\n",
    "\n",
    "len(pattern_match(pattern, text, d))"
   ]
  },
  {
   "cell_type": "code",
   "execution_count": 17,
   "id": "eeec7093-1117-4032-afef-853f49b34e55",
   "metadata": {},
   "outputs": [
    {
     "name": "stdout",
     "output_type": "stream",
     "text": [
      "TGAGAGTTA AGAGAAATA CGAGAAAGA GGACAATTA CGAGACTTG TGATAATTA CGCGAGTTA CGTGGATTA CCAGAATCA CGGGGATTA CGAGAAACA CGATAATAA CGTCAATTA CCAGAATTA CGCGATTTA CGCGAATTA CGGGTATTA CAAGAATTC CTAGGATTA CGAGAGTTT AGAAAATTA CCAGAATAA CGATCATTA CGACAGTTA CTAGAATTA TGAGAAGTA GGATAATTA AGAGCATTA CGAGACTTC CCATAATTA CGAGAAATG CGAGAAATA CGAGAATCT GGAGAATAA CGAAAATGA CGAGCTTTA CGAGAGTTG CGAGCAATA CGAAATTTA CGACAAATA CAAGAGTTA GTAGAATTA AGAGAATTG CAAGAATTT CGAGAATAA CCAGACTTA CGCGACTTA CGAGAAGAA CCACAATTA CGCGAATTC CAAGAAGTA CGGGCATTA TGAGAAATA CGATAATTG CGATAATCA CTAGAATTT CGTGATTTA CGTGAATTG CGTGAATTT CTAAAATTA CGGGACTTA CGATTATTA CGCGAATGA CGCGTATTA CGAGAAGTA CAAGAATGA CGAGACTAA TGAGACTTA AGAGAACTA CGAGTATAA CGAAAAGTA GGAGAAATA CGAGAACTG CGACAATCA CTAGAAATA CGCGAATTG GGAGAACTA AAAGAATTA CAATAATTA CGACTATTA CGGGAATTG CGAGGATTA AGAGGATTA CTAGAATAA CCGGAATTA CGAAAACTA TGCGAATTA CTGGAATTA CGAGAAATT CGAGTATCA CGAGAGTGA CGAGAAGTT CGAGGATAA CGAGAACGA CGAGACATA CGAGCATAA CGAGCATTA CAAGAATCA AGAGAATTA CGAAAATTT CGAGTATTA CGAGAGCTA CGAGATTGA CCAGTATTA CGTGAATCA CGTGTATTA CGAGATCTA CGAGTATTC CGAGAAGGA CGTGAAGTA AGAGAATTT CGTAAATTA CGTGACTTA GGAGAGTTA CGAGAATAC CGAGACTGA AGAGAATGA GGAGCATTA CGAGATTTG CTAGAATTC CGAATATTA CGGGAACTA TGAGAACTA CGAGAAGCA GGAGAATCA CAACAATTA CGAACATTA CGAGAAATC CGAGTACTA CTAGTATTA CGAGAATCA CGAGACGTA TGAGAATCA CGAGACCTA CGAGAATTG CGAGAGGTA TGAGTATTA ATAGAATTA CGAGAACTA CGAGAATTC CAAGATTTA CGCAAATTA CGAGAGTTA CATGAATTA CCAGAATGA CAAGCATTA CCAGATTTA CGACAATTC CTAGAACTA CGACCATTA CGAGCAGTA CGAGATTTC CTAGAATGA CCAGAATTG AGAGAATAA CGAGAATTA AGGGAATTA AGAGATTTA CGGCAATTA CGAGAATGC AGTGAATTA AGACAATTA CGAGATTTT CTAGACTTA CTAGAATTG TGAGAATAA CGAGTTTTA TGAGAATTC CCTGAATTA CGAGACTCA CGGGAATAA CGACAATTT CGAGAACTT CGTGAATGA CGAAGATTA CGATAATTA CGTGAAATA CCAGAATTT GGAGAAGTA CGAGCATTG GCAGAATTA CGAGGATTC TGTGAATTA CTAGCATTA CGATAAATA CGGGAGTTA CGAGAATGG CCAGGATTA GGAGACTTA AGAGAGTTA CCAGAACTA CGAGGAGTA CGAGCATTC CGAGTGTTA CGACAAGTA CGGGAAGTA CGCGAATTT CGAGTAATA CTAGAATCA CGAGCATGA CTAGATTTA CGAGGATTG CGAGCATCA CGACAATAA CGCGAAGTA CGAGAATCC CGAGGATCA CAAGAACTA TGAAAATTA CGTGCATTA CCCGAATTA GGAGAATGA CGATATTTA CGTGAATTC CGACACTTA CGAAAGTTA CAAGACTTA CGAGGAATA CGGTAATTA CAAGAAATA CGAGAGATA CGCGCATTA CGAAAATCA CAAAAATTA CGAGTATGA CGAAAATTC CGAGCGTTA TGAGAATTT CGATGATTA CGGGAATTC CGAGGCTTA TGACAATTA CGAGACTTT CCAAAATTA CGAGAAAAA TGAGAATTG CGAGAATGT CCAGAATTC TGAGAATGA AGAGAATTC GGAGAATTC CCAGAAATA CGAGGGTTA CGATACTTA CGTGAACTA CGTGAGTTA CAAGGATTA CGACGATTA CGACAACTA CTACAATTA GGAGATTTA CGGGAATTT CGAGGTTTA CGAGGATGA CGGGAATGA CGAGAATCG CGACATTTA CGAGAACTC CAAGAATTA CGAGATATA CGCTAATTA CGGGAATCA CGAGAATTT CTAGAGTTA CTCGAATTA GGGGAATTA AGAGAAGTA AGAGACTTA TCAGAATTA AGAGAATCA CTAGAAGTA TGAGCATTA CAAGAATTG CGCGAATCA CGAGACTTA CGAGCACTA ACAGAATTA CGAGAACAA GGTGAATTA CGATAAGTA CGAGTCTTA CGAGGACTA CGAGCCTTA TGAGGATTA CGATAATGA CGAAAAATA CGAGAATAG CGGAAATTA GGAAAATTA CGAGAATGA CCAGAAGTA CGAGAAGTC CGCCAATTA CACGAATTA TAAGAATTA CGTGAATAA GGCGAATTA TGAGATTTA CGATAACTA CGAGAGTTC CGAGCATTT CGAGTATTT GGAGAATTG GAAGAATTA CGAGTAGTA CGAAAATAA GGAGAATTT CGAAACTTA CAAGAATAA TGGGAATTA CGCGAACTA CGCGAATAA CGACAATGA CGATAATTT CGCGAAATA CGAAAATTA CGACAATTA CTATAATTA AGAGTATTA CGAAAATTG CGAGAACCA GGAGAATTA CCAGCATTA CGTTAATTA GGAGTATTA CTTGAATTA CGAGATTAA AGCGAATTA CGAGAATAT CAGGAATTA CGACAATTG CGTGAATTA CGAGTATTG CGAGAAGTG TGAGAATTA CCAGAGTTA GGAGGATTA TTAGAATTA CGGGAATTA CGAGATTCA CGATAGTTA CGAGAGTCA AGATAATTA CGCGGATTA CGAGGATTT CGGGATTTA CAAGTATTA CGATAATTC CGAGATGTA CGAGAGTAA CGAGATTTA CGGGAAATA\n"
     ]
    }
   ],
   "source": [
    "def neighbors(pattern, d):\n",
    "    nucs = [\"A\",\"C\",\"G\",\"T\"]\n",
    "    if d == 0:\n",
    "        return [pattern]\n",
    "    elif len(pattern) == 1:\n",
    "        return set(nucs)\n",
    "    neighborhood = set()\n",
    "    suffix_neighbors = neighbors(pattern[1:], d)\n",
    "    for text in suffix_neighbors:\n",
    "        if hamming_dist(pattern[1:], text) < d:\n",
    "            for nuc in nucs:\n",
    "                neighborhood.add(nuc+text)\n",
    "        else:\n",
    "            neighborhood.add(pattern[0]+text)\n",
    "    return neighborhood\n",
    "\n",
    "with open('dataset_30282_4.txt') as f:\n",
    "    lines = [line.rstrip('\\n') for line in f]\n",
    "    pattern = lines[0]\n",
    "    d = int(lines[1])\n",
    "\n",
    "print(\" \".join(map(str,neighbors(pattern, d))))"
   ]
  },
  {
   "cell_type": "code",
   "execution_count": 19,
   "id": "320f6c54-4577-4b8e-a1af-148d64c3b122",
   "metadata": {},
   "outputs": [
    {
     "name": "stdout",
     "output_type": "stream",
     "text": [
      "TAGATG\n"
     ]
    }
   ],
   "source": [
    "#maximum dictionary value\n",
    "def MaxMap(dic):\n",
    "    mx = max(dic.values())\n",
    "    return mx\n",
    "\n",
    "def frequent_words_with_mismatches(text, k, d):\n",
    "    patterns = []\n",
    "    freq_map = dict()\n",
    "    for i in range(0, len(text) - k + 1):\n",
    "        pattern = text[i: i+k]\n",
    "        neighborhood = list(neighbors(pattern, d))\n",
    "        for neighbor in neighborhood:\n",
    "            #neighbor = neighborhood[j]\n",
    "            if neighbor not in freq_map.keys():\n",
    "                freq_map[neighbor] = 1\n",
    "            else:\n",
    "                freq_map[neighbor] += 1\n",
    "    m = MaxMap(freq_map)\n",
    "    for pattern in freq_map.keys():\n",
    "        if freq_map[pattern] == m:\n",
    "            patterns.append(pattern)\n",
    "    return patterns\n",
    "\n",
    "with open('dataset_30278_9.txt') as f:\n",
    "    lines = [line.rstrip('\\n') for line in f]\n",
    "    text = lines[0]\n",
    "    k, d = map(int,lines[1].split(\" \"))\n",
    "\n",
    "print(\" \".join(map(str,frequent_words_with_mismatches(text, k, d))))"
   ]
  },
  {
   "cell_type": "code",
   "execution_count": 36,
   "id": "80fd2f42-2a2a-42e5-baf7-49b7a01fe74d",
   "metadata": {},
   "outputs": [
    {
     "name": "stdout",
     "output_type": "stream",
     "text": [
      "GGTGGG CACCCC CCCACC GGGGTG\n"
     ]
    }
   ],
   "source": [
    "def rc(pattern):\n",
    "    complement = {'A': 'T', 'C': 'G', 'G': 'C', 'T': 'A'} \n",
    "    rc = \"\".join(complement.get(base, base) for base in reversed(pattern))\n",
    "    return rc\n",
    "\n",
    "def frequent_words_with_mismatches_and_reverse(text, k, d):\n",
    "    patterns = []\n",
    "    freq_map = dict()\n",
    "    for i in range(0, len(text) - k + 1):\n",
    "        pattern = text[i: i+k]\n",
    "        reverse = rc(pattern)\n",
    "        neighborhood = list(neighbors(pattern, d).union(neighbors(reverse, d)))\n",
    "        for j in range(0, len(neighborhood)-1):\n",
    "            neighbor = neighborhood[j]\n",
    "            if neighbor not in freq_map.keys():\n",
    "                freq_map[neighbor] = 1\n",
    "            else:\n",
    "                freq_map[neighbor] += 1\n",
    "    m = MaxMap(freq_map)\n",
    "    for pattern in freq_map.keys():\n",
    "        if freq_map[pattern] == m:\n",
    "            patterns.append(pattern)\n",
    "    return patterns\n",
    "\n",
    "with open('dataset_30278_10.txt') as f:\n",
    "    lines = [line.rstrip('\\n') for line in f]\n",
    "    text = lines[0]\n",
    "    k, d = map(int,lines[1].split(\" \"))\n",
    "\n",
    "print(\" \".join(map(str,frequent_words_with_mismatches_and_reverse(text, k, d))))"
   ]
  },
  {
   "cell_type": "code",
   "execution_count": 45,
   "id": "971bd2b1-c981-42ca-8dd1-cc47ff579ee0",
   "metadata": {},
   "outputs": [
    {
     "data": {
      "text/plain": [
       "23"
      ]
     },
     "execution_count": 45,
     "metadata": {},
     "output_type": "execute_result"
    }
   ],
   "source": [
    "hamming_dist(\"CAGAAAGGAAGGTCCCCATACACCGACGCACCAGTTTA\",\"CACGCCGTATGCATAAACGAGCCGCACGAACCAGAGAG\")"
   ]
  },
  {
   "cell_type": "code",
   "execution_count": 46,
   "id": "158f7fd2-9593-4163-a525-dfd782f2a657",
   "metadata": {},
   "outputs": [
    {
     "data": {
      "text/plain": [
       "[14]"
      ]
     },
     "execution_count": 46,
     "metadata": {},
     "output_type": "execute_result"
    }
   ],
   "source": [
    "findOri(\"CATTCCAGTACTTCGATGATGGCGTGAAGA\")"
   ]
  },
  {
   "cell_type": "code",
   "execution_count": 47,
   "id": "8b28a6ce-9c16-480e-9f3d-8ca8b3ea2d4b",
   "metadata": {},
   "outputs": [
    {
     "data": {
      "text/plain": [
       "8"
      ]
     },
     "execution_count": 47,
     "metadata": {},
     "output_type": "execute_result"
    }
   ],
   "source": [
    "len(pattern_match(\"TGT\",\"CGTGACAGTGTATGGGCATCTTT\",1))"
   ]
  },
  {
   "cell_type": "code",
   "execution_count": 48,
   "id": "e23e8a87-ca5a-4127-9978-c5cc65ae11dc",
   "metadata": {},
   "outputs": [
    {
     "data": {
      "text/plain": [
       "106"
      ]
     },
     "execution_count": 48,
     "metadata": {},
     "output_type": "execute_result"
    }
   ],
   "source": [
    "len(neighbors(\"TGCAT\", 2))"
   ]
  },
  {
   "cell_type": "code",
   "execution_count": null,
   "id": "774379ae-59a2-4be4-81e1-81f15b94b633",
   "metadata": {},
   "outputs": [],
   "source": []
  }
 ],
 "metadata": {
  "kernelspec": {
   "display_name": "Python 3 (ipykernel)",
   "language": "python",
   "name": "python3"
  },
  "language_info": {
   "codemirror_mode": {
    "name": "ipython",
    "version": 3
   },
   "file_extension": ".py",
   "mimetype": "text/x-python",
   "name": "python",
   "nbconvert_exporter": "python",
   "pygments_lexer": "ipython3",
   "version": "3.10.16"
  }
 },
 "nbformat": 4,
 "nbformat_minor": 5
}
